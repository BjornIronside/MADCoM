{
 "cells": [
  {
   "cell_type": "markdown",
   "id": "b66fbfa7",
   "metadata": {},
   "source": [
    "## Wilcoxon Signed-Rank Test "
   ]
  },
  {
   "cell_type": "code",
   "execution_count": 2,
   "id": "9c768293",
   "metadata": {},
   "outputs": [],
   "source": [
    "import pandas as pd\n",
    "import numpy as np\n",
    "from scipy.stats import wilcoxon"
   ]
  },
  {
   "cell_type": "markdown",
   "id": "b2fdddb2",
   "metadata": {},
   "source": [
    "### TODO: Print the result for each instance and then a summary at the end of each benchmark"
   ]
  },
  {
   "cell_type": "code",
   "execution_count": 3,
   "id": "76331d2c",
   "metadata": {},
   "outputs": [
    {
     "name": "stdout",
     "output_type": "stream",
     "text": [
      "mval1C\n",
      "mval4D\n",
      "mval5D\n",
      "mval6C\n",
      "mval9D\n",
      "mval10D\n",
      "mval: 0-34-0\n",
      "Lpr-a-03\n",
      "Lpr-a-04\n",
      "Lpr-b-03\n",
      "Lpr-b-04\n",
      "Lpr-c-03\n",
      "lpr: 4-11-0\n",
      "Hefei-1\n",
      "Hefei-2\n",
      "Hefei-3\n",
      "Hefei-4\n",
      "Hefei-5\n",
      "Hefei-6\n",
      "Hefei-8\n",
      "hefei: 3-7-0\n",
      "Beijing-1\n",
      "Beijing-2\n",
      "Beijing-3\n",
      "Beijing-4\n",
      "Beijing-5\n",
      "beijing: 5-5-0\n",
      "kw: 12-0-0\n"
     ]
    },
    {
     "name": "stderr",
     "output_type": "stream",
     "text": [
      "C:\\Users\\diogo\\AppData\\Local\\Programs\\Python\\Python38\\lib\\site-packages\\scipy\\stats\\_morestats.py:3337: UserWarning: Exact p-value calculation does not work if there are zeros. Switching to normal approximation.\n",
      "  warnings.warn(\"Exact p-value calculation does not work if there are \"\n",
      "C:\\Users\\diogo\\AppData\\Local\\Programs\\Python\\Python38\\lib\\site-packages\\scipy\\stats\\_morestats.py:3351: UserWarning: Sample size too small for normal approximation.\n",
      "  warnings.warn(\"Sample size too small for normal approximation.\")\n",
      "C:\\Users\\diogo\\AppData\\Local\\Programs\\Python\\Python38\\lib\\site-packages\\scipy\\stats\\_morestats.py:3337: UserWarning: Exact p-value calculation does not work if there are zeros. Switching to normal approximation.\n",
      "  warnings.warn(\"Exact p-value calculation does not work if there are \"\n",
      "C:\\Users\\diogo\\AppData\\Local\\Programs\\Python\\Python38\\lib\\site-packages\\scipy\\stats\\_morestats.py:3351: UserWarning: Sample size too small for normal approximation.\n",
      "  warnings.warn(\"Sample size too small for normal approximation.\")\n",
      "C:\\Users\\diogo\\AppData\\Local\\Programs\\Python\\Python38\\lib\\site-packages\\scipy\\stats\\_morestats.py:3337: UserWarning: Exact p-value calculation does not work if there are zeros. Switching to normal approximation.\n",
      "  warnings.warn(\"Exact p-value calculation does not work if there are \"\n",
      "C:\\Users\\diogo\\AppData\\Local\\Programs\\Python\\Python38\\lib\\site-packages\\scipy\\stats\\_morestats.py:3351: UserWarning: Sample size too small for normal approximation.\n",
      "  warnings.warn(\"Sample size too small for normal approximation.\")\n",
      "C:\\Users\\diogo\\AppData\\Local\\Programs\\Python\\Python38\\lib\\site-packages\\scipy\\stats\\_morestats.py:3337: UserWarning: Exact p-value calculation does not work if there are zeros. Switching to normal approximation.\n",
      "  warnings.warn(\"Exact p-value calculation does not work if there are \"\n",
      "C:\\Users\\diogo\\AppData\\Local\\Programs\\Python\\Python38\\lib\\site-packages\\scipy\\stats\\_morestats.py:3351: UserWarning: Sample size too small for normal approximation.\n",
      "  warnings.warn(\"Sample size too small for normal approximation.\")\n"
     ]
    }
   ],
   "source": [
    "benchmarks = ['mval', 'lpr', 'hefei', 'beijing', 'kw']\n",
    "#benchmarks = ['mval', 'lpr', 'kw']\n",
    "significance = 0.001\n",
    "n_runs = 10\n",
    "\n",
    "for b in benchmarks:\n",
    "    uhgs_df = pd.read_csv(f\"{b}_uhgs.csv\", index_col='Instance')    \n",
    "    madcom_df = pd.read_csv(f\"{b}_madcom.csv\", index_col='Instance')\n",
    "    \n",
    "    wins = 0\n",
    "    draws = 0\n",
    "    losses = 0\n",
    "    \n",
    "    for i in madcom_df.index.values:\n",
    "        # Get run values, last 10 rows are the runs\n",
    "        uhgs_runs = uhgs_df.loc[i].iloc[-n_runs:]\n",
    "        madcom_runs = madcom_df.loc[i].iloc[-n_runs:]\n",
    "        \n",
    "        # Check that both algorithms have the same number of runs\n",
    "        if uhgs_runs.isnull().any() or madcom_runs.isnull().any():\n",
    "            print(f\"Missing runs for instance {i}\")\n",
    "            continue\n",
    "        \n",
    "        # If all runs have the same value then it is a draw\n",
    "        if (uhgs_runs == madcom_runs).all():\n",
    "            draws += 1\n",
    "            continue\n",
    "            \n",
    "        # Wilcoxon test for MADCoM being worse than UHGS (difference is larger than zero)\n",
    "        res_worse = wilcoxon(madcom_runs.values, uhgs_runs.values, alternative='greater')\n",
    "        if res_worse.pvalue < significance:\n",
    "            losses += 1\n",
    "        else:\n",
    "            # Wilcoxon test for MADCoM being better than UHGS (difference is smaller than zero)\n",
    "            res_better = wilcoxon(madcom_runs.values, uhgs_runs.values, alternative='less')\n",
    "            if res_better.pvalue < significance:\n",
    "                wins += 1\n",
    "            # Otherwise it is a draw\n",
    "            else:\n",
    "                print(i)\n",
    "                draws += 1\n",
    "    # Print result\n",
    "    print(f\"{b}: {wins}-{draws}-{losses}\")"
   ]
  },
  {
   "cell_type": "code",
   "execution_count": 3,
   "id": "5c6ab1cc",
   "metadata": {},
   "outputs": [
    {
     "name": "stdout",
     "output_type": "stream",
     "text": [
      "1     2519512.0\n",
      "2     2554498.0\n",
      "3     2536440.0\n",
      "4     2513761.0\n",
      "5     2535944.0\n",
      "6     2542494.0\n",
      "7     2505481.0\n",
      "8     2551062.0\n",
      "9     2551498.0\n",
      "10    2530079.0\n",
      "Name: O1_p-2, dtype: float64 1     2470306.0\n",
      "2     2457985.0\n",
      "3     2447884.0\n",
      "4     2466404.0\n",
      "5     2464065.0\n",
      "6     2470278.0\n",
      "7     2463144.0\n",
      "8     2456482.0\n",
      "9     2467717.0\n",
      "10    2449952.0\n",
      "Name: O1_p-2, dtype: float64\n"
     ]
    }
   ],
   "source": [
    "b = 'kw'\n",
    "uhgs_df = pd.read_csv(f\"{b}_uhgs.csv\", index_col='Instance')    \n",
    "madcom_df = pd.read_csv(f\"{b}_madcom.csv\", index_col='Instance')\n",
    "i = 'O1_p-2'\n",
    "uhgs_runs = uhgs_df.loc[i].iloc[-n_runs:]\n",
    "madcom_runs = madcom_df.loc[i].iloc[-n_runs:]\n",
    "print(uhgs_runs, madcom_runs)"
   ]
  },
  {
   "cell_type": "code",
   "execution_count": 4,
   "id": "ada17e2e",
   "metadata": {},
   "outputs": [
    {
     "data": {
      "text/plain": [
       "False"
      ]
     },
     "execution_count": 4,
     "metadata": {},
     "output_type": "execute_result"
    }
   ],
   "source": [
    "uhgs_df.loc[i].iloc[-n_runs:].isnull().any()"
   ]
  },
  {
   "cell_type": "code",
   "execution_count": 5,
   "id": "36da5257",
   "metadata": {},
   "outputs": [
    {
     "data": {
      "text/plain": [
       "False"
      ]
     },
     "execution_count": 5,
     "metadata": {},
     "output_type": "execute_result"
    }
   ],
   "source": [
    "(uhgs_runs == madcom_runs).all() "
   ]
  }
 ],
 "metadata": {
  "kernelspec": {
   "display_name": "Python 3 (ipykernel)",
   "language": "python",
   "name": "python3"
  },
  "language_info": {
   "codemirror_mode": {
    "name": "ipython",
    "version": 3
   },
   "file_extension": ".py",
   "mimetype": "text/x-python",
   "name": "python",
   "nbconvert_exporter": "python",
   "pygments_lexer": "ipython3",
   "version": "3.8.10"
  }
 },
 "nbformat": 4,
 "nbformat_minor": 5
}
